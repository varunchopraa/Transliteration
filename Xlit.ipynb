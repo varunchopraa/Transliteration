{
  "nbformat": 4,
  "nbformat_minor": 0,
  "metadata": {
    "colab": {
      "name": "Xlit.ipynb",
      "version": "0.3.2",
      "provenance": []
    },
    "kernelspec": {
      "name": "python3",
      "display_name": "Python 3"
    }
  },
  "cells": [
    {
      "cell_type": "code",
      "metadata": {
        "id": "Fq-pq55aJXDy",
        "colab_type": "code",
        "colab": {
          "base_uri": "https://localhost:8080/",
          "height": 139
        },
        "outputId": "123dbbd0-e588-43c0-bbe2-6363b7ad4f1d"
      },
      "source": [
        "!sudo pip install indic_transliteration -U"
      ],
      "execution_count": 9,
      "outputs": [
        {
          "output_type": "stream",
          "text": [
            "Requirement already up-to-date: indic_transliteration in /usr/local/lib/python3.6/dist-packages (1.8.7)\n",
            "Requirement already satisfied, skipping upgrade: splinter in /usr/local/lib/python3.6/dist-packages (from indic_transliteration) (0.10.0)\n",
            "Requirement already satisfied, skipping upgrade: regex in /usr/local/lib/python3.6/dist-packages (from indic_transliteration) (2018.1.10)\n",
            "Requirement already satisfied, skipping upgrade: backports.functools-lru-cache in /usr/local/lib/python3.6/dist-packages (from indic_transliteration) (1.5)\n",
            "Requirement already satisfied, skipping upgrade: selenium>=3.141.0 in /usr/local/lib/python3.6/dist-packages (from splinter->indic_transliteration) (3.141.0)\n",
            "Requirement already satisfied, skipping upgrade: urllib3 in /usr/local/lib/python3.6/dist-packages (from selenium>=3.141.0->splinter->indic_transliteration) (1.24.3)\n"
          ],
          "name": "stdout"
        }
      ]
    },
    {
      "cell_type": "code",
      "metadata": {
        "id": "UIEWfpdsJc50",
        "colab_type": "code",
        "colab": {
          "base_uri": "https://localhost:8080/",
          "height": 326
        },
        "outputId": "107f38a6-e1ed-42d6-8f55-3753ac8abeda"
      },
      "source": [
        "!sudo pip install git+https://github.com/sanskrit-coders/indic_transliteration/@master -U"
      ],
      "execution_count": 10,
      "outputs": [
        {
          "output_type": "stream",
          "text": [
            "Collecting git+https://github.com/sanskrit-coders/indic_transliteration/@master\n",
            "  Cloning https://github.com/sanskrit-coders/indic_transliteration/ (to revision master) to /tmp/pip-req-build-b8np_fly\n",
            "  Running command git clone -q https://github.com/sanskrit-coders/indic_transliteration/ /tmp/pip-req-build-b8np_fly\n",
            "Requirement already satisfied, skipping upgrade: regex in /usr/local/lib/python3.6/dist-packages (from indic-transliteration==1.8.7) (2018.1.10)\n",
            "Requirement already satisfied, skipping upgrade: backports.functools_lru_cache in /usr/local/lib/python3.6/dist-packages (from indic-transliteration==1.8.7) (1.5)\n",
            "Requirement already satisfied, skipping upgrade: splinter in /usr/local/lib/python3.6/dist-packages (from indic-transliteration==1.8.7) (0.10.0)\n",
            "Requirement already satisfied, skipping upgrade: selenium>=3.141.0 in /usr/local/lib/python3.6/dist-packages (from splinter->indic-transliteration==1.8.7) (3.141.0)\n",
            "Requirement already satisfied, skipping upgrade: urllib3 in /usr/local/lib/python3.6/dist-packages (from selenium>=3.141.0->splinter->indic-transliteration==1.8.7) (1.24.3)\n",
            "Building wheels for collected packages: indic-transliteration\n",
            "  Building wheel for indic-transliteration (setup.py) ... \u001b[?25l\u001b[?25hdone\n",
            "  Stored in directory: /tmp/pip-ephem-wheel-cache-srznmg8e/wheels/a3/c0/d6/2817553de728954a3966764ca6ddc957b7ca003371a4565257\n",
            "Successfully built indic-transliteration\n",
            "Installing collected packages: indic-transliteration\n",
            "  Found existing installation: indic-transliteration 1.8.7\n",
            "    Uninstalling indic-transliteration-1.8.7:\n",
            "      Successfully uninstalled indic-transliteration-1.8.7\n",
            "Successfully installed indic-transliteration-1.8.7\n"
          ],
          "name": "stdout"
        }
      ]
    },
    {
      "cell_type": "code",
      "metadata": {
        "id": "jilJmgz7JmlA",
        "colab_type": "code",
        "colab": {}
      },
      "source": [
        "from indic_transliteration import sanscript\n",
        "from indic_transliteration.sanscript import SchemeMap, SCHEMES, transliterate"
      ],
      "execution_count": 0,
      "outputs": []
    },
    {
      "cell_type": "code",
      "metadata": {
        "id": "AdWloU6aJxPx",
        "colab_type": "code",
        "colab": {
          "base_uri": "https://localhost:8080/",
          "height": 34
        },
        "outputId": "142282ea-9833-4b8d-cb87-cf24261e57dc"
      },
      "source": [
        "data = input(\"Enter a string in Hinglish:\")"
      ],
      "execution_count": 26,
      "outputs": [
        {
          "output_type": "stream",
          "text": [
            "Enter a string in Hinglish:shubha aarambha kiyaa jaaye\n"
          ],
          "name": "stdout"
        }
      ]
    },
    {
      "cell_type": "code",
      "metadata": {
        "id": "7XhbN_mCJ6kv",
        "colab_type": "code",
        "colab": {
          "base_uri": "https://localhost:8080/",
          "height": 34
        },
        "outputId": "c07ee89c-e45a-47c2-ea98-b35e38a96085"
      },
      "source": [
        "print(transliterate(data, sanscript.ITRANS, sanscript.DEVANAGARI))"
      ],
      "execution_count": 29,
      "outputs": [
        {
          "output_type": "stream",
          "text": [
            "शुभ आरम्भ किया जाये\n"
          ],
          "name": "stdout"
        }
      ]
    }
  ]
}